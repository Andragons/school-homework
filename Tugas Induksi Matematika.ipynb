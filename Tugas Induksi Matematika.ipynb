{
 "cells": [
  {
   "cell_type": "code",
   "execution_count": 8,
   "metadata": {},
   "outputs": [
    {
     "name": "stdout",
     "output_type": "stream",
     "text": [
      "Jumlah dari 5 + 7 = 12\n",
      "\n"
     ]
    }
   ],
   "source": [
    "bil1 = 5\n",
    "bil2 = 7 \n",
    "\n",
    "jml = bil1 + bil2\n",
    "print(\"Jumlah dari 5 + 7 = %d\" % jml)\n",
    "print()"
   ]
  },
  {
   "cell_type": "code",
   "execution_count": 9,
   "metadata": {},
   "outputs": [
    {
     "name": "stdout",
     "output_type": "stream",
     "text": [
      "Faktorial dari 5\n",
      "0 ! =  1\n",
      "1 ! =  1\n",
      "2 ! =  2\n",
      "3 ! =  6\n",
      "4 ! =  24\n",
      "5 ! =  120\n",
      "\n"
     ]
    }
   ],
   "source": [
    "print(\"Faktorial dari %d\" % (bil1))\n",
    "\n",
    "def faktorial(f):\n",
    "    if f <= 1:\n",
    "        return 1\n",
    "    else:\n",
    "        return f * faktorial(f-1)\n",
    "i = 0\n",
    "while i <= bil1 :\n",
    "    print(i,'! = ',faktorial(i))\n",
    "    i+=1\n",
    "print()"
   ]
  },
  {
   "cell_type": "code",
   "execution_count": 10,
   "metadata": {},
   "outputs": [
    {
     "name": "stdout",
     "output_type": "stream",
     "text": [
      "Faktorial dari 7\n",
      "0 ! =  1\n",
      "1 ! =  1\n",
      "2 ! =  2\n",
      "3 ! =  6\n",
      "4 ! =  24\n",
      "5 ! =  120\n",
      "6 ! =  720\n",
      "7 ! =  5040\n",
      "\n",
      "Faktorial dari Hasil Penjumlahan 5 + 7 = 12\n"
     ]
    }
   ],
   "source": [
    "print(\"Faktorial dari %d\" % (bil2))\n",
    "\n",
    "def faktorial(fa):\n",
    "    if fa <= 1:\n",
    "        return 1\n",
    "    else:\n",
    "        return fa * faktorial(fa-1)\n",
    "i = 0\n",
    "while i <= bil2 :\n",
    "    print(i,'! = ',faktorial(i))\n",
    "    i+=1\n",
    "print()\n",
    "print(\"Faktorial dari Hasil Penjumlahan %d + %d = %d\" % (bil1,bil2,jml))"
   ]
  },
  {
   "cell_type": "code",
   "execution_count": 14,
   "metadata": {},
   "outputs": [
    {
     "name": "stdout",
     "output_type": "stream",
     "text": [
      "Faktorial dari Hasil Penjumlahan 5 + 7 = 12\n",
      "0 ! =  1\n",
      "1 ! =  1\n",
      "2 ! =  2\n",
      "3 ! =  6\n",
      "4 ! =  24\n",
      "5 ! =  120\n",
      "6 ! =  720\n",
      "7 ! =  5040\n",
      "8 ! =  40320\n",
      "9 ! =  362880\n",
      "10 ! =  3628800\n",
      "11 ! =  39916800\n",
      "12 ! =  479001600\n"
     ]
    }
   ],
   "source": [
    "print(\"Faktorial dari Hasil Penjumlahan %d + %d = %d\" % (bil1,bil2,jml))\n",
    "\n",
    "def faktorial(fak):\n",
    "    if fak <= 1:\n",
    "        return 1\n",
    "    else:\n",
    "        return fak * faktorial(fak-1)\n",
    "i = 0\n",
    "while i <= jml :\n",
    "    print(i,'! = ',faktorial(i))\n",
    "    i+=1"
   ]
  },
  {
   "cell_type": "code",
   "execution_count": 23,
   "metadata": {},
   "outputs": [
    {
     "name": "stdout",
     "output_type": "stream",
     "text": [
      "\n",
      "Deret Fibonacci dari 12\n",
      "0 1 1 2 3 5 8 13 21 34 55 89 "
     ]
    }
   ],
   "source": [
    "print()\n",
    "def fibonacci(n):\n",
    "    if n == 0 or n == 1:\n",
    "        return n\n",
    "    else :\n",
    "        return (fibonacci(n-1) + fibonacci(n-2))\n",
    "    \n",
    "print(\"Deret Fibonacci dari %d\" % jml)\n",
    "for i in range(jml):\n",
    "    print(fibonacci(i),end =\" \")"
   ]
  },
  {
   "cell_type": "code",
   "execution_count": null,
   "metadata": {},
   "outputs": [],
   "source": []
  },
  {
   "cell_type": "code",
   "execution_count": null,
   "metadata": {},
   "outputs": [],
   "source": []
  }
 ],
 "metadata": {
  "kernelspec": {
   "display_name": "Python 3",
   "language": "python",
   "name": "python3"
  },
  "language_info": {
   "codemirror_mode": {
    "name": "ipython",
    "version": 3
   },
   "file_extension": ".py",
   "mimetype": "text/x-python",
   "name": "python",
   "nbconvert_exporter": "python",
   "pygments_lexer": "ipython3",
   "version": "3.8.5"
  }
 },
 "nbformat": 4,
 "nbformat_minor": 4
}
