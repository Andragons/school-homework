{
 "cells": [
  {
   "cell_type": "code",
   "execution_count": 1,
   "metadata": {},
   "outputs": [
    {
     "name": "stdout",
     "output_type": "stream",
     "text": [
      "Luas Segitiga dengan alas 9 dan tinggi 21 adalah : 94.500000 \n",
      "\n"
     ]
    }
   ],
   "source": [
    "# Program Menghitung Luas Segitiga\n",
    "\n",
    "luas_alas = 9\n",
    "tinggi = 21a = (alas * tinggi) / 2\n",
    "print(\"Luas Segitiga dengan alas %i dan tinggi %i adalah : %f \\n\" % (alas,tinggi,luas_a))"
   ]
  },
  {
   "cell_type": "code",
   "execution_count": 2,
   "metadata": {},
   "outputs": [
    {
     "name": "stdout",
     "output_type": "stream",
     "text": [
      "Luas Segitiga dengan alas 9 ditambah 3 dan tinggi 21 ditambah 3 adalah : 144.000000 \n",
      "\n"
     ]
    }
   ],
   "source": [
    "luas_b = ((alas + 3) * (tinggi + 3)) / 2\n",
    "print(\"Luas Segitiga dengan alas %i ditambah 3 dan tinggi %i ditambah 3 adalah : %f \\n\" % (alas,tinggi,luas_b))"
   ]
  },
  {
   "cell_type": "code",
   "execution_count": 14,
   "metadata": {},
   "outputs": [
    {
     "name": "stdout",
     "output_type": "stream",
     "text": [
      "Luas Segitiga dengan alas 9 dikali 10 dan tinggi 21 dikali 10 adalah : 14400.000000 \n",
      "\n"
     ]
    }
   ],
   "source": [
    "luas_c = (((alas + 3) * 10) * ((tinggi + 3) * 10)) / 2\n",
    "print(\"Luas Segitiga dengan alas %i dikali 10 dan tinggi %i dikali 10 adalah : %f \\n\" % (alas,tinggi,luas_c))"
   ]
  },
  {
   "cell_type": "code",
   "execution_count": 15,
   "metadata": {},
   "outputs": [
    {
     "name": "stdout",
     "output_type": "stream",
     "text": [
      "Jumlah luas b ditambah dengan luas c adalah : 14544.000000 \n",
      "\n"
     ]
    }
   ],
   "source": [
    "jml1   = luas_b + luas_c\n",
    "print(\"Jumlah luas b ditambah dengan luas c adalah : %f \\n\" % (jml1))"
   ]
  },
  {
   "cell_type": "code",
   "execution_count": 16,
   "metadata": {},
   "outputs": [
    {
     "name": "stdout",
     "output_type": "stream",
     "text": [
      "Jumlah luas c ditambah dengan luas b adalah : 14256.000000 \n",
      "\n"
     ]
    }
   ],
   "source": [
    "jml2   = luas_c - luas_b\n",
    "print(\"Jumlah luas c ditambah dengan luas b adalah : %f \\n\" % (jml2))"
   ]
  },
  {
   "cell_type": "code",
   "execution_count": null,
   "metadata": {},
   "outputs": [],
   "source": [
    "a = 10\n",
    "b = ''\n",
    "while a > 0:\n",
    "    if(a % 2 == 0):\n",
    "        b = '0' + b\n",
    "    \n",
    "    else:\n",
    "        b = '1' + b\n",
    "        a = a / 2\n",
    "    \n",
    "print(b)"
   ]
  },
  {
   "cell_type": "code",
   "execution_count": 4,
   "metadata": {},
   "outputs": [
    {
     "name": "stdout",
     "output_type": "stream",
     "text": [
      "1\n",
      "1\n",
      "1\n",
      "3\n",
      "11\n"
     ]
    }
   ],
   "source": [
    "#Konversi Biner Ke Desimal\n",
    "def binerKeDesimal(biner):\n",
    "    pangkat = len(biner) - 1\n",
    "    desimal = 0\n",
    "    for i in range(len(biner)):\n",
    "        iBin = int(biner[i])\n",
    "        iDes = iBin * (2**pangkat)\n",
    "        desimal += iDes\n",
    "        pangkat -= 1\n",
    "    return desimal\n",
    "def desimalKeBiner(desimal):\n",
    "    biner = \"\"\n",
    "    while(desimal != 0):\n",
    "        biner = str(desimal % 2) + biner\n",
    "        desimal //= 2\n",
    "    return biner\n",
    "\n",
    "biner1 = input()\n",
    "biner2 = input()\n",
    "biner3 = input()\n",
    "desimal123 = binerKeDesimal(biner1) + binerKeDesimal(biner2) + binerKeDesimal(biner3)\n",
    "hasil = desimalKeBiner(desimal123)\n",
    "print(desimal123)\n",
    "print(hasil)"
   ]
  },
  {
   "cell_type": "code",
   "execution_count": 6,
   "metadata": {},
   "outputs": [],
   "source": [
    "#konversi bilangan\n",
    "def genConverter(angka, pembilang):\n",
    "    result = []\n",
    "    hasilAngka = \"\"\n",
    "    loop = True\n",
    "    while loop:\n",
    "        if angka >= pembilang:\n",
    "            result.append(angka)\n",
    "            sisa = angka % pembilang\n",
    "            angka = angka // pembilang\n",
    "            if sisa > 9:\n",
    "                huruf = libChar(sisa)\n",
    "                hasilAngka += huruf\n",
    "                sisa = \"{0} = {1}\".format(sisa, huruf)\n",
    "            else:\n",
    "                hasilAngka += str(sisa)\n",
    "            divid = \"{0}------  {1}\".format(pembilang, sisa)\n",
    "            result.append(divid)\n",
    "        else:\n",
    "            if angka > 9:\n",
    "                angka = libChar(angka)\n",
    "            hasilAngka += str(angka)\n",
    "            result.append(angka)\n",
    "            loop = False\n",
    "            break\n",
    "        result.append(\"\")\n",
    "\n",
    "    hasilAngka = \"\".join(reversed(hasilAngka)) #reversed\n",
    "\n",
    "    return (result, hasilAngka)"
   ]
  },
  {
   "cell_type": "code",
   "execution_count": 9,
   "metadata": {},
   "outputs": [
    {
     "name": "stdout",
     "output_type": "stream",
     "text": [
      "Masukkan Bilangan Desimal = 20090015\n",
      "\n",
      "1001100101000110010011111 \n",
      "114506237 \n",
      "1328c9f\n"
     ]
    }
   ],
   "source": [
    "desimal = int(input('Masukkan Bilangan Desimal = '))\n",
    "\n",
    "biner = bin(desimal) .replace(\"0b\",\"\\n\")\n",
    "oktal = oct(desimal) .replace(\"0o\",\"\\n\")\n",
    "hexa = hex(desimal) .replace(\"0x\",\"\\n\")\n",
    "print(biner,oktal,hexa)"
   ]
  },
  {
   "cell_type": "code",
   "execution_count": 16,
   "metadata": {},
   "outputs": [
    {
     "name": "stdout",
     "output_type": "stream",
     "text": [
      "Masukan Angka : 10\n",
      "89\n"
     ]
    }
   ],
   "source": [
    "angka = int(input(\"Masukan Angka : \"))\n",
    "\n",
    "for a in range()"
   ]
  },
  {
   "cell_type": "code",
   "execution_count": null,
   "metadata": {},
   "outputs": [],
   "source": []
  }
 ],
 "metadata": {
  "kernelspec": {
   "display_name": "Python 3",
   "language": "python",
   "name": "python3"
  },
  "language_info": {
   "codemirror_mode": {
    "name": "ipython",
    "version": 3
   },
   "file_extension": ".py",
   "mimetype": "text/x-python",
   "name": "python",
   "nbconvert_exporter": "python",
   "pygments_lexer": "ipython3",
   "version": "3.8.5"
  }
 },
 "nbformat": 4,
 "nbformat_minor": 4
}
