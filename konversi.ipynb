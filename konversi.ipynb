{
 "cells": [
  {
   "cell_type": "code",
   "execution_count": 3,
   "metadata": {},
   "outputs": [
    {
     "name": "stdout",
     "output_type": "stream",
     "text": [
      "Masukkan Bilangan Desimal = 20\n",
      "\n",
      "Biner   : 10100\n",
      "Oktal   : 24\n",
      "Hexa    : 14\n",
      "Quinery : 40\n"
     ]
    }
   ],
   "source": [
    "# Jawaban dari tugas Konversi NIM (Kelompok 9)\n",
    "desimal = int(input('Masukkan Bilangan Desimal = '))\n",
    "quinery = ''\n",
    "cetak = []\n",
    "\n",
    "biner = bin(desimal) .replace(\"0b\",\"\")\n",
    "oktal = oct(desimal) .replace(\"0o\",\"\")\n",
    "hexa = hex(desimal) .replace(\"0x\",\"\")\n",
    "print()\n",
    "\n",
    "while desimal != 0:\n",
    "    hasil = desimal % 5\n",
    "    cetak.insert(0, str(hasil))\n",
    "    desimal = desimal//5\n",
    "    if desimal == 0:\n",
    "        for i in range (len(cetak)):\n",
    "            quinery +=  cetak[i] \n",
    "\n",
    "print(\"Biner   : \" + biner)\n",
    "print(\"Oktal   : \" + oktal)\n",
    "print(\"Hexa    : \" + hexa)\n",
    "print(\"Quinery : \" + quinery)"
   ]
  },
  {
   "cell_type": "code",
   "execution_count": null,
   "metadata": {},
   "outputs": [],
   "source": []
  },
  {
   "cell_type": "code",
   "execution_count": null,
   "metadata": {},
   "outputs": [],
   "source": []
  }
 ],
 "metadata": {
  "kernelspec": {
   "display_name": "Python 3",
   "language": "python",
   "name": "python3"
  },
  "language_info": {
   "codemirror_mode": {
    "name": "ipython",
    "version": 3
   },
   "file_extension": ".py",
   "mimetype": "text/x-python",
   "name": "python",
   "nbconvert_exporter": "python",
   "pygments_lexer": "ipython3",
   "version": "3.8.5"
  }
 },
 "nbformat": 4,
 "nbformat_minor": 4
}
